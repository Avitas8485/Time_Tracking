{
 "cells": [
  {
   "cell_type": "code",
   "execution_count": 1,
   "metadata": {},
   "outputs": [],
   "source": [
    "import sqlite3"
   ]
  },
  {
   "cell_type": "code",
   "execution_count": 8,
   "metadata": {},
   "outputs": [],
   "source": [
    "conn = sqlite3.connect(\"window_tracker.db\")\n",
    "cursor = conn.cursor()"
   ]
  },
  {
   "cell_type": "code",
   "execution_count": 9,
   "metadata": {},
   "outputs": [
    {
     "data": {
      "text/plain": [
       "<sqlite3.Cursor at 0x1a8ce6ffb40>"
      ]
     },
     "execution_count": 9,
     "metadata": {},
     "output_type": "execute_result"
    }
   ],
   "source": [
    "cursor.execute(\"SELECT * FROM window_activity\")"
   ]
  },
  {
   "cell_type": "code",
   "execution_count": 10,
   "metadata": {},
   "outputs": [],
   "source": [
    "rows = cursor.fetchall()"
   ]
  },
  {
   "cell_type": "code",
   "execution_count": 11,
   "metadata": {},
   "outputs": [
    {
     "name": "stdout",
     "output_type": "stream",
     "text": [
      "(1, 'active_window.py - Time_Tracking - Visual Studio Code', 'Code.exe', 18832, 'C:\\\\Users\\\\avity\\\\AppData\\\\Local\\\\Programs\\\\Microsoft VS Code', '13:50:38', '2023-11-14', 5.01, 'Sign in | Slack')\n",
      "(2, 'Sign in | Slack', 'Slack.exe', 20888, 'C:\\\\Windows\\\\system32', '13:50:40', '2023-11-14', 2.0, '')\n",
      "(3, 'active_window.py - Time_Tracking - Visual Studio Code', 'Code.exe', 18832, 'C:\\\\Users\\\\avity\\\\AppData\\\\Local\\\\Programs\\\\Microsoft VS Code', '13:50:45', '2023-11-14', 4.0, 'type checking python at DuckDuckGo — Mozilla Firefox')\n",
      "(4, 'type checking python at DuckDuckGo — Mozilla Firefox', 'firefox.exe', 21264, 'C:\\\\Program Files\\\\Mozilla Firefox', '13:50:48', '2023-11-14', 3.0, 'Visual Studio Code')\n",
      "(5, 'active_window.py - Time_Tracking - Visual Studio Code', 'Code.exe', 18832, 'C:\\\\Users\\\\avity\\\\AppData\\\\Local\\\\Programs\\\\Microsoft VS Code', '13:52:29', '2023-11-14', 3.003, 'Sign in | Slack')\n",
      "(6, 'Sign in | Slack', 'Slack.exe', 20888, 'C:\\\\Windows\\\\system32', '13:52:32', '2023-11-14', 3.003, '')\n",
      "(7, 'active_window.py - Time_Tracking - Visual Studio Code', 'Code.exe', 18832, 'C:\\\\Users\\\\avity\\\\AppData\\\\Local\\\\Programs\\\\Microsoft VS Code', '13:52:35', '2023-11-14', 2.002, 'type checking python at DuckDuckGo — Mozilla Firefox')\n",
      "(8, 'type checking python at DuckDuckGo — Mozilla Firefox', 'firefox.exe', 21264, 'C:\\\\Program Files\\\\Mozilla Firefox', '13:52:36', '2023-11-14', 1.001, '')\n"
     ]
    }
   ],
   "source": [
    "for row in rows:\n",
    "    print(row)"
   ]
  },
  {
   "cell_type": "code",
   "execution_count": 6,
   "metadata": {},
   "outputs": [
    {
     "name": "stdout",
     "output_type": "stream",
     "text": [
      "['id', 'title', 'exe', 'pid', 'path', 'start_time', 'start_date', 'active_time', 'program_name']\n"
     ]
    }
   ],
   "source": [
    "columns = [column[0] for column in cursor.description]\n",
    "print(columns)"
   ]
  },
  {
   "cell_type": "code",
   "execution_count": 7,
   "metadata": {},
   "outputs": [
    {
     "name": "stdout",
     "output_type": "stream",
     "text": [
      "{'id': 1, 'title': 'active_window.py - Time_Tracking - Visual Studio Code', 'exe': 'Code.exe', 'pid': 18832, 'path': 'C:\\\\Users\\\\avity\\\\AppData\\\\Local\\\\Programs\\\\Microsoft VS Code', 'start_time': '13:50:38', 'start_date': '2023-11-14', 'active_time': 5.01, 'program_name': 'Sign in | Slack'}\n",
      "{'id': 2, 'title': 'Sign in | Slack', 'exe': 'Slack.exe', 'pid': 20888, 'path': 'C:\\\\Windows\\\\system32', 'start_time': '13:50:40', 'start_date': '2023-11-14', 'active_time': 2.0, 'program_name': ''}\n",
      "{'id': 3, 'title': 'active_window.py - Time_Tracking - Visual Studio Code', 'exe': 'Code.exe', 'pid': 18832, 'path': 'C:\\\\Users\\\\avity\\\\AppData\\\\Local\\\\Programs\\\\Microsoft VS Code', 'start_time': '13:50:45', 'start_date': '2023-11-14', 'active_time': 4.0, 'program_name': 'type checking python at DuckDuckGo — Mozilla Firefox'}\n",
      "{'id': 4, 'title': 'type checking python at DuckDuckGo — Mozilla Firefox', 'exe': 'firefox.exe', 'pid': 21264, 'path': 'C:\\\\Program Files\\\\Mozilla Firefox', 'start_time': '13:50:48', 'start_date': '2023-11-14', 'active_time': 3.0, 'program_name': 'Visual Studio Code'}\n"
     ]
    }
   ],
   "source": [
    "for row in rows:\n",
    "    print(dict(zip(columns, row)))"
   ]
  }
 ],
 "metadata": {
  "kernelspec": {
   "display_name": "Python 3",
   "language": "python",
   "name": "python3"
  },
  "language_info": {
   "codemirror_mode": {
    "name": "ipython",
    "version": 3
   },
   "file_extension": ".py",
   "mimetype": "text/x-python",
   "name": "python",
   "nbconvert_exporter": "python",
   "pygments_lexer": "ipython3",
   "version": "3.11.6"
  }
 },
 "nbformat": 4,
 "nbformat_minor": 2
}
