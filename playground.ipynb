{
 "cells": [
  {
   "cell_type": "code",
   "execution_count": 1,
   "metadata": {},
   "outputs": [],
   "source": [
    "import sqlite3"
   ]
  },
  {
   "cell_type": "code",
   "execution_count": 3,
   "metadata": {},
   "outputs": [],
   "source": [
    "conn = sqlite3.connect(\"window_tracker.db\")\n",
    "cursor = conn.cursor()"
   ]
  },
  {
   "cell_type": "code",
   "execution_count": 4,
   "metadata": {},
   "outputs": [
    {
     "data": {
      "text/plain": [
       "<sqlite3.Cursor at 0x215411bf3c0>"
      ]
     },
     "execution_count": 4,
     "metadata": {},
     "output_type": "execute_result"
    }
   ],
   "source": [
    "cursor.execute(\"SELECT * FROM window_activity\")"
   ]
  },
  {
   "cell_type": "code",
   "execution_count": 5,
   "metadata": {},
   "outputs": [],
   "source": [
    "rows = cursor.fetchall()"
   ]
  },
  {
   "cell_type": "code",
   "execution_count": 6,
   "metadata": {},
   "outputs": [
    {
     "name": "stdout",
     "output_type": "stream",
     "text": [
      "(1, 'active_window.py - Time_Tracking - Visual Studio Code', 'Code.exe', 18832, 'C:\\\\Users\\\\avity\\\\AppData\\\\Local\\\\Programs\\\\Microsoft VS Code', 1699985487.9996538, 10.009777069091797, '')\n",
      "(2, '', 'explorer.exe', 6040, 'C:\\\\Windows\\\\system32', 1699985489.0119877, 1.0007634162902832, 'Sign in | Slack')\n",
      "(3, 'Sign in | Slack', 'Slack.exe', 20888, 'C:\\\\Windows\\\\system32', 1699985491.0169387, 2.001875162124634, '')\n",
      "(4, '', 'explorer.exe', 6040, 'C:\\\\Windows\\\\system32', 1699985492.0249813, 1.0009739398956299, 'Mozilla Firefox')\n",
      "(5, 'Mozilla Firefox', 'firefox.exe', 21264, 'C:\\\\Program Files\\\\Mozilla Firefox', 1699985493.0364318, 1.000568151473999, '')\n",
      "(6, '', 'explorer.exe', 6040, 'C:\\\\Windows\\\\system32', 1699985494.044781, 1.0002384185791016, 'Visual Studio Code')\n"
     ]
    }
   ],
   "source": [
    "for row in rows:\n",
    "    print(row)"
   ]
  },
  {
   "cell_type": "code",
   "execution_count": 7,
   "metadata": {},
   "outputs": [
    {
     "name": "stdout",
     "output_type": "stream",
     "text": [
      "['id', 'title', 'exe', 'pid', 'path', 'start_time', 'active_time', 'program_name']\n"
     ]
    }
   ],
   "source": [
    "columns = [column[0] for column in cursor.description]\n",
    "print(columns)"
   ]
  },
  {
   "cell_type": "code",
   "execution_count": 8,
   "metadata": {},
   "outputs": [
    {
     "name": "stdout",
     "output_type": "stream",
     "text": [
      "{'id': 1, 'title': 'active_window.py - Time_Tracking - Visual Studio Code', 'exe': 'Code.exe', 'pid': 18832, 'path': 'C:\\\\Users\\\\avity\\\\AppData\\\\Local\\\\Programs\\\\Microsoft VS Code', 'start_time': 1699985487.9996538, 'active_time': 10.009777069091797, 'program_name': ''}\n",
      "{'id': 2, 'title': '', 'exe': 'explorer.exe', 'pid': 6040, 'path': 'C:\\\\Windows\\\\system32', 'start_time': 1699985489.0119877, 'active_time': 1.0007634162902832, 'program_name': 'Sign in | Slack'}\n",
      "{'id': 3, 'title': 'Sign in | Slack', 'exe': 'Slack.exe', 'pid': 20888, 'path': 'C:\\\\Windows\\\\system32', 'start_time': 1699985491.0169387, 'active_time': 2.001875162124634, 'program_name': ''}\n",
      "{'id': 4, 'title': '', 'exe': 'explorer.exe', 'pid': 6040, 'path': 'C:\\\\Windows\\\\system32', 'start_time': 1699985492.0249813, 'active_time': 1.0009739398956299, 'program_name': 'Mozilla Firefox'}\n",
      "{'id': 5, 'title': 'Mozilla Firefox', 'exe': 'firefox.exe', 'pid': 21264, 'path': 'C:\\\\Program Files\\\\Mozilla Firefox', 'start_time': 1699985493.0364318, 'active_time': 1.000568151473999, 'program_name': ''}\n",
      "{'id': 6, 'title': '', 'exe': 'explorer.exe', 'pid': 6040, 'path': 'C:\\\\Windows\\\\system32', 'start_time': 1699985494.044781, 'active_time': 1.0002384185791016, 'program_name': 'Visual Studio Code'}\n"
     ]
    }
   ],
   "source": [
    "for row in rows:\n",
    "    print(dict(zip(columns, row)))"
   ]
  }
 ],
 "metadata": {
  "kernelspec": {
   "display_name": "Python 3",
   "language": "python",
   "name": "python3"
  },
  "language_info": {
   "codemirror_mode": {
    "name": "ipython",
    "version": 3
   },
   "file_extension": ".py",
   "mimetype": "text/x-python",
   "name": "python",
   "nbconvert_exporter": "python",
   "pygments_lexer": "ipython3",
   "version": "3.11.6"
  }
 },
 "nbformat": 4,
 "nbformat_minor": 2
}
