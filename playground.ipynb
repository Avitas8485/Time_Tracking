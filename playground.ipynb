{
 "cells": [
  {
   "cell_type": "code",
   "execution_count": 1,
   "metadata": {},
   "outputs": [],
   "source": [
    "import sqlite3"
   ]
  },
  {
   "cell_type": "code",
   "execution_count": 2,
   "metadata": {},
   "outputs": [],
   "source": [
    "conn = sqlite3.connect(\"window_tracker.db\")\n",
    "cursor = conn.cursor()"
   ]
  },
  {
   "cell_type": "code",
   "execution_count": 3,
   "metadata": {},
   "outputs": [
    {
     "data": {
      "text/plain": [
       "<sqlite3.Cursor at 0x203ee0ef440>"
      ]
     },
     "execution_count": 3,
     "metadata": {},
     "output_type": "execute_result"
    }
   ],
   "source": [
    "cursor.execute(\"SELECT * FROM window_activity\")"
   ]
  },
  {
   "cell_type": "code",
   "execution_count": 4,
   "metadata": {},
   "outputs": [],
   "source": [
    "rows = cursor.fetchall()"
   ]
  },
  {
   "cell_type": "code",
   "execution_count": 5,
   "metadata": {},
   "outputs": [
    {
     "name": "stdout",
     "output_type": "stream",
     "text": [
      "(1, 'active_window.py - Time_Tracking - Visual Studio Code', 'Code.exe', 18068, 'C:\\\\Users\\\\avity\\\\AppData\\\\Local\\\\Programs\\\\Microsoft VS Code', 1699927109.2198339, 0.0, 'Visual Studio Code')\n",
      "(2, 'active_window.py - Time_Tracking - Visual Studio Code', 'Code.exe', 18068, 'C:\\\\Users\\\\avity\\\\AppData\\\\Local\\\\Programs\\\\Microsoft VS Code', 1699927110.2269535, 0.0, 'Visual Studio Code')\n",
      "(3, 'active_window.py - Time_Tracking - Visual Studio Code', 'Code.exe', 18068, 'C:\\\\Users\\\\avity\\\\AppData\\\\Local\\\\Programs\\\\Microsoft VS Code', 1699927111.2319772, 0.0, 'Visual Studio Code')\n",
      "(4, 'active_window.py - Time_Tracking - Visual Studio Code', 'Code.exe', 18068, 'C:\\\\Users\\\\avity\\\\AppData\\\\Local\\\\Programs\\\\Microsoft VS Code', 1699927112.236561, 0.0, 'Visual Studio Code')\n",
      "(5, 'active_window.py - Time_Tracking - Visual Studio Code', 'Code.exe', 18068, 'C:\\\\Users\\\\avity\\\\AppData\\\\Local\\\\Programs\\\\Microsoft VS Code', 1699927113.2414207, 0.0, 'Visual Studio Code')\n",
      "(6, 'active_window.py - Time_Tracking - Visual Studio Code', 'Code.exe', 18068, 'C:\\\\Users\\\\avity\\\\AppData\\\\Local\\\\Programs\\\\Microsoft VS Code', 1699927114.2493622, 0.0, 'Visual Studio Code')\n",
      "(7, 'ChatGPT — Mozilla Firefox', 'firefox.exe', 14880, 'C:\\\\Program Files\\\\Mozilla Firefox', 1699927115.2538989, 6.033453464508057, 'ChatGPT — Mozilla Firefox')\n",
      "(8, 'ChatGPT — Mozilla Firefox', 'firefox.exe', 14880, 'C:\\\\Program Files\\\\Mozilla Firefox', 1699927116.2613597, 6.033453464508057, 'ChatGPT — Mozilla Firefox')\n",
      "(9, 'ChatGPT — Mozilla Firefox', 'firefox.exe', 14880, 'C:\\\\Program Files\\\\Mozilla Firefox', 1699927117.265072, 6.033453464508057, 'ChatGPT — Mozilla Firefox')\n",
      "(10, 'ChatGPT — Mozilla Firefox', 'firefox.exe', 14880, 'C:\\\\Program Files\\\\Mozilla Firefox', 1699927118.2692127, 6.033453464508057, 'ChatGPT — Mozilla Firefox')\n",
      "(11, 'ChatGPT — Mozilla Firefox', 'firefox.exe', 14880, 'C:\\\\Program Files\\\\Mozilla Firefox', 1699927119.2754774, 6.033453464508057, 'ChatGPT — Mozilla Firefox')\n",
      "(12, 'ChatGPT — Mozilla Firefox', 'firefox.exe', 14880, 'C:\\\\Program Files\\\\Mozilla Firefox', 1699927120.2808435, 6.033453464508057, 'ChatGPT — Mozilla Firefox')\n",
      "(13, 'ChatGPT — Mozilla Firefox', 'firefox.exe', 14880, 'C:\\\\Program Files\\\\Mozilla Firefox', 1699927121.2872121, 6.033453464508057, 'ChatGPT — Mozilla Firefox')\n",
      "(14, 'active_window.py - Time_Tracking - Visual Studio Code', 'Code.exe', 18068, 'C:\\\\Users\\\\avity\\\\AppData\\\\Local\\\\Programs\\\\Microsoft VS Code', 1699927122.2919476, 7.036303520202637, 'Visual Studio Code')\n",
      "(15, 'active_window.py - Time_Tracking - Visual Studio Code', 'Code.exe', 18068, 'C:\\\\Users\\\\avity\\\\AppData\\\\Local\\\\Programs\\\\Microsoft VS Code', 1699927123.2982018, 7.036303520202637, 'Visual Studio Code')\n",
      "(16, 'active_window.py - Time_Tracking - Visual Studio Code', 'Code.exe', 18068, 'C:\\\\Users\\\\avity\\\\AppData\\\\Local\\\\Programs\\\\Microsoft VS Code', 1699927124.3072047, 7.036303520202637, 'Visual Studio Code')\n",
      "(17, 'active_window.py - Time_Tracking - Visual Studio Code', 'Code.exe', 18068, 'C:\\\\Users\\\\avity\\\\AppData\\\\Local\\\\Programs\\\\Microsoft VS Code', 1699927125.3138168, 7.036303520202637, 'Visual Studio Code')\n",
      "(18, 'active_window.py - Time_Tracking - Visual Studio Code', 'Code.exe', 18068, 'C:\\\\Users\\\\avity\\\\AppData\\\\Local\\\\Programs\\\\Microsoft VS Code', 1699927126.323006, 7.036303520202637, 'Visual Studio Code')\n",
      "(19, 'python subtract datetime at DuckDuckGo — Mozilla Firefox', 'firefox.exe', 14880, 'C:\\\\Program Files\\\\Mozilla Firefox', 1699927127.3257694, 5.034762144088745, 'python subtract datetime at DuckDuckGo — Mozilla Firefox')\n",
      "(20, 'python subtract datetime at DuckDuckGo — Mozilla Firefox', 'firefox.exe', 14880, 'C:\\\\Program Files\\\\Mozilla Firefox', 1699927128.3305397, 5.034762144088745, 'python subtract datetime at DuckDuckGo — Mozilla Firefox')\n",
      "(21, 'python subtract datetime at DuckDuckGo — Mozilla Firefox', 'firefox.exe', 14880, 'C:\\\\Program Files\\\\Mozilla Firefox', 1699927129.3373442, 5.034762144088745, 'python subtract datetime at DuckDuckGo — Mozilla Firefox')\n",
      "(22, 'python subtract datetime at DuckDuckGo — Mozilla Firefox', 'firefox.exe', 14880, 'C:\\\\Program Files\\\\Mozilla Firefox', 1699927130.342938, 5.034762144088745, 'python subtract datetime at DuckDuckGo — Mozilla Firefox')\n",
      "(23, 'python subtract datetime at DuckDuckGo — Mozilla Firefox', 'firefox.exe', 14880, 'C:\\\\Program Files\\\\Mozilla Firefox', 1699927131.3483822, 5.034762144088745, 'python subtract datetime at DuckDuckGo — Mozilla Firefox')\n",
      "(24, 'python subtract datetime at DuckDuckGo — Mozilla Firefox', 'firefox.exe', 14880, 'C:\\\\Program Files\\\\Mozilla Firefox', 1699927132.3517427, 5.034762144088745, 'python subtract datetime at DuckDuckGo — Mozilla Firefox')\n",
      "(25, 'active_window.py - Time_Tracking - Visual Studio Code', 'Code.exe', 18068, 'C:\\\\Users\\\\avity\\\\AppData\\\\Local\\\\Programs\\\\Microsoft VS Code', 1699927133.355475, 6.029148101806641, 'Visual Studio Code')\n",
      "(26, 'active_window.py - Time_Tracking - Visual Studio Code', 'Code.exe', 18068, 'C:\\\\Users\\\\avity\\\\AppData\\\\Local\\\\Programs\\\\Microsoft VS Code', 1699927134.3629258, 6.029148101806641, 'Visual Studio Code')\n",
      "(27, 'active_window.py - Time_Tracking - Visual Studio Code', 'Code.exe', 18068, 'C:\\\\Users\\\\avity\\\\AppData\\\\Local\\\\Programs\\\\Microsoft VS Code', 1699927135.3712256, 6.029148101806641, 'Visual Studio Code')\n",
      "(28, 'active_window.py - Time_Tracking - Visual Studio Code', 'Code.exe', 18068, 'C:\\\\Users\\\\avity\\\\AppData\\\\Local\\\\Programs\\\\Microsoft VS Code', 1699927136.381367, 6.029148101806641, 'Visual Studio Code')\n",
      "(29, 'active_window.py - Time_Tracking - Visual Studio Code', 'Code.exe', 18068, 'C:\\\\Users\\\\avity\\\\AppData\\\\Local\\\\Programs\\\\Microsoft VS Code', 1699927137.386662, 6.029148101806641, 'Visual Studio Code')\n"
     ]
    }
   ],
   "source": [
    "for row in rows:\n",
    "    print(row)"
   ]
  },
  {
   "cell_type": "code",
   "execution_count": 7,
   "metadata": {},
   "outputs": [
    {
     "name": "stdout",
     "output_type": "stream",
     "text": [
      "['id', 'title', 'exe', 'pid', 'path', 'start_time', 'active_time', 'program_name']\n"
     ]
    }
   ],
   "source": [
    "columns = [column[0] for column in cursor.description]\n",
    "print(columns)"
   ]
  },
  {
   "cell_type": "code",
   "execution_count": 8,
   "metadata": {},
   "outputs": [
    {
     "name": "stdout",
     "output_type": "stream",
     "text": [
      "{'id': 1, 'title': 'active_window.py - Time_Tracking - Visual Studio Code', 'exe': 'Code.exe', 'pid': 18068, 'path': 'C:\\\\Users\\\\avity\\\\AppData\\\\Local\\\\Programs\\\\Microsoft VS Code', 'start_time': 1699927109.2198339, 'active_time': 0.0, 'program_name': 'Visual Studio Code'}\n",
      "{'id': 2, 'title': 'active_window.py - Time_Tracking - Visual Studio Code', 'exe': 'Code.exe', 'pid': 18068, 'path': 'C:\\\\Users\\\\avity\\\\AppData\\\\Local\\\\Programs\\\\Microsoft VS Code', 'start_time': 1699927110.2269535, 'active_time': 0.0, 'program_name': 'Visual Studio Code'}\n",
      "{'id': 3, 'title': 'active_window.py - Time_Tracking - Visual Studio Code', 'exe': 'Code.exe', 'pid': 18068, 'path': 'C:\\\\Users\\\\avity\\\\AppData\\\\Local\\\\Programs\\\\Microsoft VS Code', 'start_time': 1699927111.2319772, 'active_time': 0.0, 'program_name': 'Visual Studio Code'}\n",
      "{'id': 4, 'title': 'active_window.py - Time_Tracking - Visual Studio Code', 'exe': 'Code.exe', 'pid': 18068, 'path': 'C:\\\\Users\\\\avity\\\\AppData\\\\Local\\\\Programs\\\\Microsoft VS Code', 'start_time': 1699927112.236561, 'active_time': 0.0, 'program_name': 'Visual Studio Code'}\n",
      "{'id': 5, 'title': 'active_window.py - Time_Tracking - Visual Studio Code', 'exe': 'Code.exe', 'pid': 18068, 'path': 'C:\\\\Users\\\\avity\\\\AppData\\\\Local\\\\Programs\\\\Microsoft VS Code', 'start_time': 1699927113.2414207, 'active_time': 0.0, 'program_name': 'Visual Studio Code'}\n",
      "{'id': 6, 'title': 'active_window.py - Time_Tracking - Visual Studio Code', 'exe': 'Code.exe', 'pid': 18068, 'path': 'C:\\\\Users\\\\avity\\\\AppData\\\\Local\\\\Programs\\\\Microsoft VS Code', 'start_time': 1699927114.2493622, 'active_time': 0.0, 'program_name': 'Visual Studio Code'}\n",
      "{'id': 7, 'title': 'ChatGPT — Mozilla Firefox', 'exe': 'firefox.exe', 'pid': 14880, 'path': 'C:\\\\Program Files\\\\Mozilla Firefox', 'start_time': 1699927115.2538989, 'active_time': 6.033453464508057, 'program_name': 'ChatGPT — Mozilla Firefox'}\n",
      "{'id': 8, 'title': 'ChatGPT — Mozilla Firefox', 'exe': 'firefox.exe', 'pid': 14880, 'path': 'C:\\\\Program Files\\\\Mozilla Firefox', 'start_time': 1699927116.2613597, 'active_time': 6.033453464508057, 'program_name': 'ChatGPT — Mozilla Firefox'}\n",
      "{'id': 9, 'title': 'ChatGPT — Mozilla Firefox', 'exe': 'firefox.exe', 'pid': 14880, 'path': 'C:\\\\Program Files\\\\Mozilla Firefox', 'start_time': 1699927117.265072, 'active_time': 6.033453464508057, 'program_name': 'ChatGPT — Mozilla Firefox'}\n",
      "{'id': 10, 'title': 'ChatGPT — Mozilla Firefox', 'exe': 'firefox.exe', 'pid': 14880, 'path': 'C:\\\\Program Files\\\\Mozilla Firefox', 'start_time': 1699927118.2692127, 'active_time': 6.033453464508057, 'program_name': 'ChatGPT — Mozilla Firefox'}\n",
      "{'id': 11, 'title': 'ChatGPT — Mozilla Firefox', 'exe': 'firefox.exe', 'pid': 14880, 'path': 'C:\\\\Program Files\\\\Mozilla Firefox', 'start_time': 1699927119.2754774, 'active_time': 6.033453464508057, 'program_name': 'ChatGPT — Mozilla Firefox'}\n",
      "{'id': 12, 'title': 'ChatGPT — Mozilla Firefox', 'exe': 'firefox.exe', 'pid': 14880, 'path': 'C:\\\\Program Files\\\\Mozilla Firefox', 'start_time': 1699927120.2808435, 'active_time': 6.033453464508057, 'program_name': 'ChatGPT — Mozilla Firefox'}\n",
      "{'id': 13, 'title': 'ChatGPT — Mozilla Firefox', 'exe': 'firefox.exe', 'pid': 14880, 'path': 'C:\\\\Program Files\\\\Mozilla Firefox', 'start_time': 1699927121.2872121, 'active_time': 6.033453464508057, 'program_name': 'ChatGPT — Mozilla Firefox'}\n",
      "{'id': 14, 'title': 'active_window.py - Time_Tracking - Visual Studio Code', 'exe': 'Code.exe', 'pid': 18068, 'path': 'C:\\\\Users\\\\avity\\\\AppData\\\\Local\\\\Programs\\\\Microsoft VS Code', 'start_time': 1699927122.2919476, 'active_time': 7.036303520202637, 'program_name': 'Visual Studio Code'}\n",
      "{'id': 15, 'title': 'active_window.py - Time_Tracking - Visual Studio Code', 'exe': 'Code.exe', 'pid': 18068, 'path': 'C:\\\\Users\\\\avity\\\\AppData\\\\Local\\\\Programs\\\\Microsoft VS Code', 'start_time': 1699927123.2982018, 'active_time': 7.036303520202637, 'program_name': 'Visual Studio Code'}\n",
      "{'id': 16, 'title': 'active_window.py - Time_Tracking - Visual Studio Code', 'exe': 'Code.exe', 'pid': 18068, 'path': 'C:\\\\Users\\\\avity\\\\AppData\\\\Local\\\\Programs\\\\Microsoft VS Code', 'start_time': 1699927124.3072047, 'active_time': 7.036303520202637, 'program_name': 'Visual Studio Code'}\n",
      "{'id': 17, 'title': 'active_window.py - Time_Tracking - Visual Studio Code', 'exe': 'Code.exe', 'pid': 18068, 'path': 'C:\\\\Users\\\\avity\\\\AppData\\\\Local\\\\Programs\\\\Microsoft VS Code', 'start_time': 1699927125.3138168, 'active_time': 7.036303520202637, 'program_name': 'Visual Studio Code'}\n",
      "{'id': 18, 'title': 'active_window.py - Time_Tracking - Visual Studio Code', 'exe': 'Code.exe', 'pid': 18068, 'path': 'C:\\\\Users\\\\avity\\\\AppData\\\\Local\\\\Programs\\\\Microsoft VS Code', 'start_time': 1699927126.323006, 'active_time': 7.036303520202637, 'program_name': 'Visual Studio Code'}\n",
      "{'id': 19, 'title': 'python subtract datetime at DuckDuckGo — Mozilla Firefox', 'exe': 'firefox.exe', 'pid': 14880, 'path': 'C:\\\\Program Files\\\\Mozilla Firefox', 'start_time': 1699927127.3257694, 'active_time': 5.034762144088745, 'program_name': 'python subtract datetime at DuckDuckGo — Mozilla Firefox'}\n",
      "{'id': 20, 'title': 'python subtract datetime at DuckDuckGo — Mozilla Firefox', 'exe': 'firefox.exe', 'pid': 14880, 'path': 'C:\\\\Program Files\\\\Mozilla Firefox', 'start_time': 1699927128.3305397, 'active_time': 5.034762144088745, 'program_name': 'python subtract datetime at DuckDuckGo — Mozilla Firefox'}\n",
      "{'id': 21, 'title': 'python subtract datetime at DuckDuckGo — Mozilla Firefox', 'exe': 'firefox.exe', 'pid': 14880, 'path': 'C:\\\\Program Files\\\\Mozilla Firefox', 'start_time': 1699927129.3373442, 'active_time': 5.034762144088745, 'program_name': 'python subtract datetime at DuckDuckGo — Mozilla Firefox'}\n",
      "{'id': 22, 'title': 'python subtract datetime at DuckDuckGo — Mozilla Firefox', 'exe': 'firefox.exe', 'pid': 14880, 'path': 'C:\\\\Program Files\\\\Mozilla Firefox', 'start_time': 1699927130.342938, 'active_time': 5.034762144088745, 'program_name': 'python subtract datetime at DuckDuckGo — Mozilla Firefox'}\n",
      "{'id': 23, 'title': 'python subtract datetime at DuckDuckGo — Mozilla Firefox', 'exe': 'firefox.exe', 'pid': 14880, 'path': 'C:\\\\Program Files\\\\Mozilla Firefox', 'start_time': 1699927131.3483822, 'active_time': 5.034762144088745, 'program_name': 'python subtract datetime at DuckDuckGo — Mozilla Firefox'}\n",
      "{'id': 24, 'title': 'python subtract datetime at DuckDuckGo — Mozilla Firefox', 'exe': 'firefox.exe', 'pid': 14880, 'path': 'C:\\\\Program Files\\\\Mozilla Firefox', 'start_time': 1699927132.3517427, 'active_time': 5.034762144088745, 'program_name': 'python subtract datetime at DuckDuckGo — Mozilla Firefox'}\n",
      "{'id': 25, 'title': 'active_window.py - Time_Tracking - Visual Studio Code', 'exe': 'Code.exe', 'pid': 18068, 'path': 'C:\\\\Users\\\\avity\\\\AppData\\\\Local\\\\Programs\\\\Microsoft VS Code', 'start_time': 1699927133.355475, 'active_time': 6.029148101806641, 'program_name': 'Visual Studio Code'}\n",
      "{'id': 26, 'title': 'active_window.py - Time_Tracking - Visual Studio Code', 'exe': 'Code.exe', 'pid': 18068, 'path': 'C:\\\\Users\\\\avity\\\\AppData\\\\Local\\\\Programs\\\\Microsoft VS Code', 'start_time': 1699927134.3629258, 'active_time': 6.029148101806641, 'program_name': 'Visual Studio Code'}\n",
      "{'id': 27, 'title': 'active_window.py - Time_Tracking - Visual Studio Code', 'exe': 'Code.exe', 'pid': 18068, 'path': 'C:\\\\Users\\\\avity\\\\AppData\\\\Local\\\\Programs\\\\Microsoft VS Code', 'start_time': 1699927135.3712256, 'active_time': 6.029148101806641, 'program_name': 'Visual Studio Code'}\n",
      "{'id': 28, 'title': 'active_window.py - Time_Tracking - Visual Studio Code', 'exe': 'Code.exe', 'pid': 18068, 'path': 'C:\\\\Users\\\\avity\\\\AppData\\\\Local\\\\Programs\\\\Microsoft VS Code', 'start_time': 1699927136.381367, 'active_time': 6.029148101806641, 'program_name': 'Visual Studio Code'}\n",
      "{'id': 29, 'title': 'active_window.py - Time_Tracking - Visual Studio Code', 'exe': 'Code.exe', 'pid': 18068, 'path': 'C:\\\\Users\\\\avity\\\\AppData\\\\Local\\\\Programs\\\\Microsoft VS Code', 'start_time': 1699927137.386662, 'active_time': 6.029148101806641, 'program_name': 'Visual Studio Code'}\n"
     ]
    }
   ],
   "source": [
    "for row in rows:\n",
    "    print(dict(zip(columns, row)))"
   ]
  }
 ],
 "metadata": {
  "kernelspec": {
   "display_name": "Python 3",
   "language": "python",
   "name": "python3"
  },
  "language_info": {
   "codemirror_mode": {
    "name": "ipython",
    "version": 3
   },
   "file_extension": ".py",
   "mimetype": "text/x-python",
   "name": "python",
   "nbconvert_exporter": "python",
   "pygments_lexer": "ipython3",
   "version": "3.11.6"
  }
 },
 "nbformat": 4,
 "nbformat_minor": 2
}
