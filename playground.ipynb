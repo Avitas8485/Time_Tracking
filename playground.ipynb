{
 "cells": [
  {
   "cell_type": "code",
   "execution_count": 1,
   "metadata": {},
   "outputs": [],
   "source": [
    "import sqlite3"
   ]
  },
  {
   "cell_type": "code",
   "execution_count": 2,
   "metadata": {},
   "outputs": [],
   "source": [
    "conn = sqlite3.connect(\"window_tracker.db\")\n",
    "cursor = conn.cursor()"
   ]
  },
  {
   "cell_type": "code",
   "execution_count": 3,
   "metadata": {},
   "outputs": [
    {
     "data": {
      "text/plain": [
       "<sqlite3.Cursor at 0x245c93955c0>"
      ]
     },
     "execution_count": 3,
     "metadata": {},
     "output_type": "execute_result"
    }
   ],
   "source": [
    "cursor.execute(\"SELECT * FROM window_activity\")"
   ]
  },
  {
   "cell_type": "code",
   "execution_count": 4,
   "metadata": {},
   "outputs": [],
   "source": [
    "rows = cursor.fetchall()"
   ]
  },
  {
   "cell_type": "code",
   "execution_count": 5,
   "metadata": {},
   "outputs": [
    {
     "name": "stdout",
     "output_type": "stream",
     "text": [
      "(1, 'active_window.py - Time_Tracking - Visual Studio Code', 'Code.exe', 18832, 'C:\\\\Users\\\\avity\\\\AppData\\\\Local\\\\Programs\\\\Microsoft VS Code', '14:24:27', '2023-11-14', 2.0, '')\n",
      "(2, 'Sign in | Slack', 'Slack.exe', 20888, 'C:\\\\Windows\\\\system32', '14:24:29', '2023-11-14', 1.0, 'Visual Studio Code')\n",
      "(3, 'active_window.py - Time_Tracking - Visual Studio Code', 'Code.exe', 18832, 'C:\\\\Users\\\\avity\\\\AppData\\\\Local\\\\Programs\\\\Microsoft VS Code', '14:24:57', '2023-11-14', 28.03, 'idle')\n",
      "(4, 'idle', 'idle', 'idle', 'idle', '14:25:27', '2023-11-14', 30.03, 'Visual Studio Code')\n",
      "(5, 'active_window.py - Time_Tracking - Visual Studio Code', 'Code.exe', 18832, 'C:\\\\Users\\\\avity\\\\AppData\\\\Local\\\\Programs\\\\Microsoft VS Code', '14:25:30', '2023-11-14', 3.01, 'Sign in | Slack')\n",
      "(6, 'Sign in | Slack', 'Slack.exe', 20888, 'C:\\\\Windows\\\\system32', '14:25:32', '2023-11-14', 2.0, 'Visual Studio Code')\n",
      "(7, 'active_window.py - Time_Tracking - Visual Studio Code', 'Code.exe', 18832, 'C:\\\\Users\\\\avity\\\\AppData\\\\Local\\\\Programs\\\\Microsoft VS Code', '14:42:29', '2023-11-14', 6.01, 'Sign in | Slack')\n",
      "(8, 'Sign in | Slack', 'Slack.exe', 20888, 'C:\\\\Windows\\\\system32', '14:42:31', '2023-11-14', 2.02, 'Visual Studio Code')\n",
      "(9, 'active_window.py - Time_Tracking - Visual Studio Code', 'Code.exe', 18832, 'C:\\\\Users\\\\avity\\\\AppData\\\\Local\\\\Programs\\\\Microsoft VS Code', '14:42:40', '2023-11-14', 9.01, 'Sign in | Slack')\n",
      "(10, 'Sign in | Slack', 'Slack.exe', 20888, 'C:\\\\Windows\\\\system32', '14:42:42', '2023-11-14', 2.0, 'ChatGPT — Mozilla Firefox')\n",
      "(11, 'ChatGPT — Mozilla Firefox', 'firefox.exe', 21264, 'C:\\\\Program Files\\\\Mozilla Firefox', '14:42:43', '2023-11-14', 1.0, 'Visual Studio Code')\n",
      "(12, 'active_window.py - Time_Tracking - Visual Studio Code', 'Code.exe', 17148, 'C:\\\\Users\\\\avity\\\\AppData\\\\Local\\\\Programs\\\\Microsoft VS Code', '15:23:05', '2023-11-19', 6.01, 'SkepticMystic/nlp — Mozilla Firefox')\n",
      "(13, 'SkepticMystic/nlp — Mozilla Firefox', 'firefox.exe', 21636, 'C:\\\\Program Files\\\\Mozilla Firefox', '15:23:11', '2023-11-19', 6.0, 'YouTube — Mozilla Firefox')\n",
      "(14, 'YouTube — Mozilla Firefox', 'firefox.exe', 21636, 'C:\\\\Program Files\\\\Mozilla Firefox', '15:23:17', '2023-11-19', 6.01, 'Gmail — Mozilla Firefox')\n",
      "(15, 'Verify Discord Login from New Location - irritas8485@gmail.com - Gmail — Mozilla Firefox', 'firefox.exe', 21636, 'C:\\\\Program Files\\\\Mozilla Firefox', '15:23:21', '2023-11-19', 4.01, 'Visual Studio Code')\n",
      "(16, 'active_window.py - Time_Tracking - Visual Studio Code', 'Code.exe', 17148, 'C:\\\\Users\\\\avity\\\\AppData\\\\Local\\\\Programs\\\\Microsoft VS Code', '15:23:33', '2023-11-19', 12.01, 'Gmail — Mozilla Firefox')\n",
      "(17, 'Verify Discord Login from New Location - irritas8485@gmail.com - Gmail — Mozilla Firefox', 'firefox.exe', 21636, 'C:\\\\Program Files\\\\Mozilla Firefox', '15:23:37', '2023-11-19', 4.0, 'Visual Studio Code')\n"
     ]
    }
   ],
   "source": [
    "for row in rows:\n",
    "    print(row)"
   ]
  },
  {
   "cell_type": "code",
   "execution_count": 6,
   "metadata": {},
   "outputs": [
    {
     "name": "stdout",
     "output_type": "stream",
     "text": [
      "['id', 'title', 'exe', 'pid', 'path', 'start_time', 'start_date', 'active_time', 'program_name']\n"
     ]
    }
   ],
   "source": [
    "columns = [column[0] for column in cursor.description]\n",
    "print(columns)"
   ]
  },
  {
   "cell_type": "code",
   "execution_count": 7,
   "metadata": {},
   "outputs": [
    {
     "name": "stdout",
     "output_type": "stream",
     "text": [
      "{'id': 1, 'title': 'active_window.py - Time_Tracking - Visual Studio Code', 'exe': 'Code.exe', 'pid': 18832, 'path': 'C:\\\\Users\\\\avity\\\\AppData\\\\Local\\\\Programs\\\\Microsoft VS Code', 'start_time': '14:24:27', 'start_date': '2023-11-14', 'active_time': 2.0, 'program_name': ''}\n",
      "{'id': 2, 'title': 'Sign in | Slack', 'exe': 'Slack.exe', 'pid': 20888, 'path': 'C:\\\\Windows\\\\system32', 'start_time': '14:24:29', 'start_date': '2023-11-14', 'active_time': 1.0, 'program_name': 'Visual Studio Code'}\n",
      "{'id': 3, 'title': 'active_window.py - Time_Tracking - Visual Studio Code', 'exe': 'Code.exe', 'pid': 18832, 'path': 'C:\\\\Users\\\\avity\\\\AppData\\\\Local\\\\Programs\\\\Microsoft VS Code', 'start_time': '14:24:57', 'start_date': '2023-11-14', 'active_time': 28.03, 'program_name': 'idle'}\n",
      "{'id': 4, 'title': 'idle', 'exe': 'idle', 'pid': 'idle', 'path': 'idle', 'start_time': '14:25:27', 'start_date': '2023-11-14', 'active_time': 30.03, 'program_name': 'Visual Studio Code'}\n",
      "{'id': 5, 'title': 'active_window.py - Time_Tracking - Visual Studio Code', 'exe': 'Code.exe', 'pid': 18832, 'path': 'C:\\\\Users\\\\avity\\\\AppData\\\\Local\\\\Programs\\\\Microsoft VS Code', 'start_time': '14:25:30', 'start_date': '2023-11-14', 'active_time': 3.01, 'program_name': 'Sign in | Slack'}\n",
      "{'id': 6, 'title': 'Sign in | Slack', 'exe': 'Slack.exe', 'pid': 20888, 'path': 'C:\\\\Windows\\\\system32', 'start_time': '14:25:32', 'start_date': '2023-11-14', 'active_time': 2.0, 'program_name': 'Visual Studio Code'}\n",
      "{'id': 7, 'title': 'active_window.py - Time_Tracking - Visual Studio Code', 'exe': 'Code.exe', 'pid': 18832, 'path': 'C:\\\\Users\\\\avity\\\\AppData\\\\Local\\\\Programs\\\\Microsoft VS Code', 'start_time': '14:42:29', 'start_date': '2023-11-14', 'active_time': 6.01, 'program_name': 'Sign in | Slack'}\n",
      "{'id': 8, 'title': 'Sign in | Slack', 'exe': 'Slack.exe', 'pid': 20888, 'path': 'C:\\\\Windows\\\\system32', 'start_time': '14:42:31', 'start_date': '2023-11-14', 'active_time': 2.02, 'program_name': 'Visual Studio Code'}\n",
      "{'id': 9, 'title': 'active_window.py - Time_Tracking - Visual Studio Code', 'exe': 'Code.exe', 'pid': 18832, 'path': 'C:\\\\Users\\\\avity\\\\AppData\\\\Local\\\\Programs\\\\Microsoft VS Code', 'start_time': '14:42:40', 'start_date': '2023-11-14', 'active_time': 9.01, 'program_name': 'Sign in | Slack'}\n",
      "{'id': 10, 'title': 'Sign in | Slack', 'exe': 'Slack.exe', 'pid': 20888, 'path': 'C:\\\\Windows\\\\system32', 'start_time': '14:42:42', 'start_date': '2023-11-14', 'active_time': 2.0, 'program_name': 'ChatGPT — Mozilla Firefox'}\n",
      "{'id': 11, 'title': 'ChatGPT — Mozilla Firefox', 'exe': 'firefox.exe', 'pid': 21264, 'path': 'C:\\\\Program Files\\\\Mozilla Firefox', 'start_time': '14:42:43', 'start_date': '2023-11-14', 'active_time': 1.0, 'program_name': 'Visual Studio Code'}\n",
      "{'id': 12, 'title': 'active_window.py - Time_Tracking - Visual Studio Code', 'exe': 'Code.exe', 'pid': 17148, 'path': 'C:\\\\Users\\\\avity\\\\AppData\\\\Local\\\\Programs\\\\Microsoft VS Code', 'start_time': '15:23:05', 'start_date': '2023-11-19', 'active_time': 6.01, 'program_name': 'SkepticMystic/nlp — Mozilla Firefox'}\n",
      "{'id': 13, 'title': 'SkepticMystic/nlp — Mozilla Firefox', 'exe': 'firefox.exe', 'pid': 21636, 'path': 'C:\\\\Program Files\\\\Mozilla Firefox', 'start_time': '15:23:11', 'start_date': '2023-11-19', 'active_time': 6.0, 'program_name': 'YouTube — Mozilla Firefox'}\n",
      "{'id': 14, 'title': 'YouTube — Mozilla Firefox', 'exe': 'firefox.exe', 'pid': 21636, 'path': 'C:\\\\Program Files\\\\Mozilla Firefox', 'start_time': '15:23:17', 'start_date': '2023-11-19', 'active_time': 6.01, 'program_name': 'Gmail — Mozilla Firefox'}\n",
      "{'id': 15, 'title': 'Verify Discord Login from New Location - irritas8485@gmail.com - Gmail — Mozilla Firefox', 'exe': 'firefox.exe', 'pid': 21636, 'path': 'C:\\\\Program Files\\\\Mozilla Firefox', 'start_time': '15:23:21', 'start_date': '2023-11-19', 'active_time': 4.01, 'program_name': 'Visual Studio Code'}\n",
      "{'id': 16, 'title': 'active_window.py - Time_Tracking - Visual Studio Code', 'exe': 'Code.exe', 'pid': 17148, 'path': 'C:\\\\Users\\\\avity\\\\AppData\\\\Local\\\\Programs\\\\Microsoft VS Code', 'start_time': '15:23:33', 'start_date': '2023-11-19', 'active_time': 12.01, 'program_name': 'Gmail — Mozilla Firefox'}\n",
      "{'id': 17, 'title': 'Verify Discord Login from New Location - irritas8485@gmail.com - Gmail — Mozilla Firefox', 'exe': 'firefox.exe', 'pid': 21636, 'path': 'C:\\\\Program Files\\\\Mozilla Firefox', 'start_time': '15:23:37', 'start_date': '2023-11-19', 'active_time': 4.0, 'program_name': 'Visual Studio Code'}\n"
     ]
    }
   ],
   "source": [
    "for row in rows:\n",
    "    print(dict(zip(columns, row)))"
   ]
  }
 ],
 "metadata": {
  "kernelspec": {
   "display_name": "Python 3",
   "language": "python",
   "name": "python3"
  },
  "language_info": {
   "codemirror_mode": {
    "name": "ipython",
    "version": 3
   },
   "file_extension": ".py",
   "mimetype": "text/x-python",
   "name": "python",
   "nbconvert_exporter": "python",
   "pygments_lexer": "ipython3",
   "version": "3.11.6"
  }
 },
 "nbformat": 4,
 "nbformat_minor": 2
}
