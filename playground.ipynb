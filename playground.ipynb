{
 "cells": [
  {
   "cell_type": "code",
   "execution_count": 1,
   "metadata": {},
   "outputs": [],
   "source": [
    "import sqlite3"
   ]
  },
  {
   "cell_type": "code",
   "execution_count": 2,
   "metadata": {},
   "outputs": [],
   "source": [
    "conn = sqlite3.connect(\"window_tracker.db\")\n",
    "cursor = conn.cursor()"
   ]
  },
  {
   "cell_type": "code",
   "execution_count": 3,
   "metadata": {},
   "outputs": [
    {
     "data": {
      "text/plain": [
       "<sqlite3.Cursor at 0x292d7f15940>"
      ]
     },
     "execution_count": 3,
     "metadata": {},
     "output_type": "execute_result"
    }
   ],
   "source": [
    "cursor.execute(\"SELECT * FROM window_activity\")"
   ]
  },
  {
   "cell_type": "code",
   "execution_count": 4,
   "metadata": {},
   "outputs": [],
   "source": [
    "rows = cursor.fetchall()"
   ]
  },
  {
   "cell_type": "code",
   "execution_count": 5,
   "metadata": {},
   "outputs": [
    {
     "name": "stdout",
     "output_type": "stream",
     "text": [
      "(1, 'active_window.py - Time_Tracking - Visual Studio Code', 'Code.exe', 18832, 'C:\\\\Users\\\\avity\\\\AppData\\\\Local\\\\Programs\\\\Microsoft VS Code', '14:24:27', '2023-11-14', 2.0, '')\n",
      "(2, 'Sign in | Slack', 'Slack.exe', 20888, 'C:\\\\Windows\\\\system32', '14:24:29', '2023-11-14', 1.0, 'Visual Studio Code')\n",
      "(3, 'active_window.py - Time_Tracking - Visual Studio Code', 'Code.exe', 18832, 'C:\\\\Users\\\\avity\\\\AppData\\\\Local\\\\Programs\\\\Microsoft VS Code', '14:24:57', '2023-11-14', 28.03, 'idle')\n",
      "(4, 'idle', 'idle', 'idle', 'idle', '14:25:27', '2023-11-14', 30.03, 'Visual Studio Code')\n",
      "(5, 'active_window.py - Time_Tracking - Visual Studio Code', 'Code.exe', 18832, 'C:\\\\Users\\\\avity\\\\AppData\\\\Local\\\\Programs\\\\Microsoft VS Code', '14:25:30', '2023-11-14', 3.01, 'Sign in | Slack')\n",
      "(6, 'Sign in | Slack', 'Slack.exe', 20888, 'C:\\\\Windows\\\\system32', '14:25:32', '2023-11-14', 2.0, 'Visual Studio Code')\n"
     ]
    }
   ],
   "source": [
    "for row in rows:\n",
    "    print(row)"
   ]
  },
  {
   "cell_type": "code",
   "execution_count": null,
   "metadata": {},
   "outputs": [],
   "source": [
    "columns = [column[0] for column in cursor.description]\n",
    "print(columns)"
   ]
  },
  {
   "cell_type": "code",
   "execution_count": null,
   "metadata": {},
   "outputs": [],
   "source": [
    "for row in rows:\n",
    "    print(dict(zip(columns, row)))"
   ]
  }
 ],
 "metadata": {
  "kernelspec": {
   "display_name": "Python 3",
   "language": "python",
   "name": "python3"
  },
  "language_info": {
   "codemirror_mode": {
    "name": "ipython",
    "version": 3
   },
   "file_extension": ".py",
   "mimetype": "text/x-python",
   "name": "python",
   "nbconvert_exporter": "python",
   "pygments_lexer": "ipython3",
   "version": "3.11.6"
  }
 },
 "nbformat": 4,
 "nbformat_minor": 2
}
